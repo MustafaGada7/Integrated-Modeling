{
 "cells": [
  {
   "cell_type": "markdown",
   "id": "d7f809aa",
   "metadata": {},
   "source": [
    "Integretad modeling\n",
    "4-Steps Small & Mid-sized City Planning\n",
    "\n",
    "The Four Steps The four steps are described as follows:\n",
    "1. Subarea Analysis\n",
    "Creating General Multi model specifications (GMNS) format network for the area and specify point of intrests (POIs).\n",
    "\n",
    "2. Trip Generation\n",
    "Generate the number of production and attraction trips (the number of trips entering and leaving each zone)for each trip purpose (HBw, HBO, and NHB) >> person trips per day.\n",
    "\n",
    "3. Trip Distriputaion\n",
    "Estimate the number of trips made between each zone.\n",
    "Trip distribution classification is considered.\n",
    "Classification of trip distribution: \n",
    "-internal > internal \n",
    "-internal > external \n",
    "-external > internal \n",
    "-external > external\n",
    "\n",
    "4. Traffic Assignment\n",
    ". finding (static) shortest path between two nodes, \n",
    ". constructing shortest paths for all individual agents, \n",
    ". performing path-based User-Equilibrium (UE) traffic assignment,\n",
    ". evaluating multimodal accessibility and equity,\n",
    ". synthesizing zones and Origin-Destination (OD) demand for a given network.\n",
    "\n"
   ]
  },
  {
   "cell_type": "markdown",
   "id": "e53f592b",
   "metadata": {},
   "source": [
    "1. Subarea Analysis\n",
    "1.1 Network File Preparation, prepar map.osm (from openstreetmap.org)"
   ]
  },
  {
   "cell_type": "markdown",
   "id": "91daf655",
   "metadata": {},
   "source": [
    "1.2 install osm2gmns python package"
   ]
  },
  {
   "cell_type": "code",
   "execution_count": 10,
   "id": "7b826f59",
   "metadata": {},
   "outputs": [
    {
     "name": "stdout",
     "output_type": "stream",
     "text": [
      "Requirement already satisfied: osm2gmns in /Users/mustafagadah/opt/anaconda3/lib/python3.9/site-packages (0.7.2)\r\n",
      "Requirement already satisfied: shapely>=1.7 in /Users/mustafagadah/opt/anaconda3/lib/python3.9/site-packages (from osm2gmns) (2.0.0)\r\n",
      "Requirement already satisfied: osmium>=3.1.3 in /Users/mustafagadah/opt/anaconda3/lib/python3.9/site-packages (from osm2gmns) (3.5.0)\r\n",
      "Requirement already satisfied: numpy in /Users/mustafagadah/opt/anaconda3/lib/python3.9/site-packages (from osm2gmns) (1.21.5)\r\n",
      "Requirement already satisfied: requests in /Users/mustafagadah/opt/anaconda3/lib/python3.9/site-packages (from osmium>=3.1.3->osm2gmns) (2.27.1)\r\n",
      "Requirement already satisfied: certifi>=2017.4.17 in /Users/mustafagadah/opt/anaconda3/lib/python3.9/site-packages (from requests->osmium>=3.1.3->osm2gmns) (2021.10.8)\r\n",
      "Requirement already satisfied: charset-normalizer~=2.0.0 in /Users/mustafagadah/opt/anaconda3/lib/python3.9/site-packages (from requests->osmium>=3.1.3->osm2gmns) (2.0.4)\r\n",
      "Requirement already satisfied: urllib3<1.27,>=1.21.1 in /Users/mustafagadah/opt/anaconda3/lib/python3.9/site-packages (from requests->osmium>=3.1.3->osm2gmns) (1.26.9)\r\n",
      "Requirement already satisfied: idna<4,>=2.5 in /Users/mustafagadah/opt/anaconda3/lib/python3.9/site-packages (from requests->osmium>=3.1.3->osm2gmns) (3.3)\r\n"
     ]
    }
   ],
   "source": [
    "!pip install osm2gmns "
   ]
  },
  {
   "cell_type": "markdown",
   "id": "793ae53f",
   "metadata": {},
   "source": [
    "1.3 Import osm2gmns "
   ]
  },
  {
   "cell_type": "code",
   "execution_count": 6,
   "id": "cf35cdc9",
   "metadata": {},
   "outputs": [
    {
     "name": "stdout",
     "output_type": "stream",
     "text": [
      "arguments used for network parsing:\n",
      "  filename: map.osm\n",
      "  network_types: ('auto',)\n",
      "  link_types: all\n",
      "  POI: False\n",
      "  POI_sampling_ratio: 0.2\n",
      "  strict_mode: True\n",
      "  offset: no\n",
      "  min_nodes: 1\n",
      "  combine: False\n",
      "  bbox: None\n",
      "  default_lanes: False\n",
      "  default_speed: False\n",
      "  default_capacity: False\n",
      "  start_node_id: 0\n",
      "  start_link_id: 0\n",
      "\n",
      "Building Network from OSM file\n",
      "  reading osm file\n",
      "  parsing osm network\n",
      "    generating nodes and links\n",
      "  number of nodes: 664, number of links: 1415, number of pois: 0\n",
      "Outputting Network Files\n"
     ]
    }
   ],
   "source": [
    "# Import osm2gmns with the alias as \"og\" (easier to type)\n",
    "import osm2gmns as og  \n",
    "#og.downloadOSMData(110833,'tempe.osm')\n",
    "net = og.getNetFromFile('map.osm', POI=False, POI_sampling_ratio=0.2)\n",
    "og.outputNetToCSV(net)"
   ]
  },
  {
   "cell_type": "markdown",
   "id": "f2ca4a95",
   "metadata": {},
   "source": [
    "2. Trip Generation"
   ]
  },
  {
   "cell_type": "markdown",
   "id": "6b004837",
   "metadata": {},
   "source": [
    "2.1 Install grid2demand"
   ]
  },
  {
   "cell_type": "code",
   "execution_count": 11,
   "id": "7eba333b",
   "metadata": {},
   "outputs": [
    {
     "name": "stdout",
     "output_type": "stream",
     "text": [
      "Collecting grid2demand\n",
      "  Downloading grid2demand-0.2.7-py3-none-any.whl (19 kB)\n",
      "Requirement already satisfied: pandas>=0.24.0 in /Users/mustafagadah/opt/anaconda3/lib/python3.9/site-packages (from grid2demand) (1.4.2)\n",
      "Requirement already satisfied: numpy in /Users/mustafagadah/opt/anaconda3/lib/python3.9/site-packages (from grid2demand) (1.21.5)\n",
      "Requirement already satisfied: python-dateutil>=2.8.1 in /Users/mustafagadah/opt/anaconda3/lib/python3.9/site-packages (from pandas>=0.24.0->grid2demand) (2.8.2)\n",
      "Requirement already satisfied: pytz>=2020.1 in /Users/mustafagadah/opt/anaconda3/lib/python3.9/site-packages (from pandas>=0.24.0->grid2demand) (2021.3)\n",
      "Requirement already satisfied: six>=1.5 in /Users/mustafagadah/opt/anaconda3/lib/python3.9/site-packages (from python-dateutil>=2.8.1->pandas>=0.24.0->grid2demand) (1.16.0)\n",
      "Installing collected packages: grid2demand\n",
      "Successfully installed grid2demand-0.2.7\n"
     ]
    }
   ],
   "source": [
    "!pip install grid2demand"
   ]
  },
  {
   "cell_type": "code",
   "execution_count": null,
   "id": "4c778bda",
   "metadata": {},
   "outputs": [],
   "source": []
  }
 ],
 "metadata": {
  "kernelspec": {
   "display_name": "Python 3 (ipykernel)",
   "language": "python",
   "name": "python3"
  },
  "language_info": {
   "codemirror_mode": {
    "name": "ipython",
    "version": 3
   },
   "file_extension": ".py",
   "mimetype": "text/x-python",
   "name": "python",
   "nbconvert_exporter": "python",
   "pygments_lexer": "ipython3",
   "version": "3.9.12"
  }
 },
 "nbformat": 4,
 "nbformat_minor": 5
}
